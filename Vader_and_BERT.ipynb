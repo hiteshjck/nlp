{
  "nbformat": 4,
  "nbformat_minor": 0,
  "metadata": {
    "colab": {
      "provenance": [],
      "authorship_tag": "ABX9TyMyqfsR4U1ujwH4qUlL2OdY",
      "include_colab_link": true
    },
    "kernelspec": {
      "name": "python3",
      "display_name": "Python 3"
    },
    "language_info": {
      "name": "python"
    }
  },
  "cells": [
    {
      "cell_type": "markdown",
      "metadata": {
        "id": "view-in-github",
        "colab_type": "text"
      },
      "source": [
        "<a href=\"https://colab.research.google.com/github/hiteshjck/nlp/blob/main/Vader_and_BERT.ipynb\" target=\"_parent\"><img src=\"https://colab.research.google.com/assets/colab-badge.svg\" alt=\"Open In Colab\"/></a>"
      ]
    },
    {
      "cell_type": "markdown",
      "source": [
        "---------------------------------------------------------------------------------------------------------**Import Libraries**------------------------------------------------------------------------------"
      ],
      "metadata": {
        "id": "JikimuoB3Hgw"
      }
    },
    {
      "cell_type": "code",
      "source": [
        "import pandas as pd\n",
        "import numpy as np\n",
        "import seaborn as sb\n",
        "from bs4 import BeautifulSoup\n",
        "import re\n",
        "import tensorflow as tf\n",
        "from sklearn.metrics import classification_report, accuracy_score, mean_squared_error, mean_absolute_error\n",
        "from sklearn.model_selection import train_test_split\n",
        "from google.colab import drive"
      ],
      "metadata": {
        "id": "LK44GcPY3M2x"
      },
      "execution_count": null,
      "outputs": []
    },
    {
      "cell_type": "markdown",
      "source": [
        "---------------------------------------------------------------------------------------------------------**Data Preprocessing**------------------------------------------------------------------------------"
      ],
      "metadata": {
        "id": "MSSJOGIn3SVs"
      }
    },
    {
      "cell_type": "code",
      "execution_count": null,
      "metadata": {
        "colab": {
          "base_uri": "https://localhost:8080/"
        },
        "id": "R7yLqeCcrX2l",
        "outputId": "e7406e27-b167-47a8-fa5e-15a3c204cb58"
      },
      "outputs": [
        {
          "output_type": "stream",
          "name": "stdout",
          "text": [
            "Drive already mounted at /content/drive/; to attempt to forcibly remount, call drive.mount(\"/content/drive/\", force_remount=True).\n",
            "                                              Review  Sentiment\n",
            "0  Fast shipping but this product is very cheaply...          1\n",
            "1  This case takes so long to ship and it's not e...          1\n",
            "2  Good for not droids. Not good for iPhones. You...          1\n",
            "3  The cable was not compatible between my macboo...          1\n",
            "4  The case is nice but did not have a glow light...          1\n",
            "25000\n"
          ]
        }
      ],
      "source": [
        "# Data preprocessing\n",
        "\n",
        "# reading csv using pandas\n",
        "drive.mount('/content/drive/')\n",
        "df = pd.read_csv('drive/MyDrive/nlp_data/AmazonReview.csv')\n",
        "\n",
        "print(df.head())\n",
        "print(len(df.index))"
      ]
    },
    {
      "cell_type": "code",
      "source": [
        "# text cleaning\n",
        "\n",
        "# Handling missing values\n",
        "# no missing values\n",
        "df = df.dropna()\n",
        "\n",
        "# 1. removing leading and trailing spaces\n",
        "df[\"Review\"] = df[\"Review\"].str.strip()\n",
        "\n",
        "# tokenization\n",
        "#df[\"tokenized review\"] = df.apply(lambda row: nltk.word_tokenize(row[\"Review\"]), axis=1)\n",
        "\n",
        "# Lowercasing\n",
        "df[\"Review\"] = df[\"Review\"].str.lower()\n",
        "\n",
        "# Map scores to sentiments (e.g., positive, neutral, negative)\n",
        "df['Sentiment value'] = df['Sentiment'].apply(lambda score: 'positive' if score > 3 else ('negative' if score < 3 else 'neutral'))\n",
        "print(df['Sentiment value'].value_counts())\n",
        "\n",
        "# Removing stop words (drops accuracy @1,2,3)\n",
        "# for i in stopwords.words('english'):\n",
        "#    df['Review'] = df[\"Review\"].str.replace(\" \"+i+\" \", \" \")\n",
        "\n",
        "# 2. Removing special characters (drops accuracy @1,2,3)\n",
        "# df[\"Review\"] = df[\"Review\"].str.replace(\"[\\\"$&+,:;=?@#|'<>.-^*()%!]\", \"\")\n",
        "\n",
        "print(df.head())\n",
        "print(len(df.index))"
      ],
      "metadata": {
        "colab": {
          "base_uri": "https://localhost:8080/"
        },
        "id": "qzDQ3bkrr3Bj",
        "outputId": "042b3472-c665-42c4-e05d-ac2bb2150038"
      },
      "execution_count": null,
      "outputs": [
        {
          "output_type": "stream",
          "name": "stdout",
          "text": [
            "negative    10000\n",
            "positive     9999\n",
            "neutral      5000\n",
            "Name: Sentiment value, dtype: int64\n",
            "                                              Review  Sentiment  \\\n",
            "0  fast shipping but this product is very cheaply...          1   \n",
            "1  this case takes so long to ship and it's not e...          1   \n",
            "2  good for not droids. not good for iphones. you...          1   \n",
            "3  the cable was not compatible between my macboo...          1   \n",
            "4  the case is nice but did not have a glow light...          1   \n",
            "\n",
            "  Sentiment value  \n",
            "0        negative  \n",
            "1        negative  \n",
            "2        negative  \n",
            "3        negative  \n",
            "4        negative  \n",
            "24999\n"
          ]
        }
      ]
    },
    {
      "cell_type": "markdown",
      "source": [
        "---------------------------------------------------------------------------------------------------- **Vader** -------------------------------------------------------------------------------------------------------"
      ],
      "metadata": {
        "id": "Jjp1wgPO3vpM"
      }
    },
    {
      "cell_type": "code",
      "source": [
        "pip install vaderSentiment"
      ],
      "metadata": {
        "colab": {
          "base_uri": "https://localhost:8080/"
        },
        "id": "rh86ZjnE8AhP",
        "outputId": "2e411d41-b956-439b-b2da-624c9f1cf6f3"
      },
      "execution_count": null,
      "outputs": [
        {
          "output_type": "stream",
          "name": "stdout",
          "text": [
            "Collecting vaderSentiment\n",
            "  Downloading vaderSentiment-3.3.2-py2.py3-none-any.whl (125 kB)\n",
            "\u001b[2K     \u001b[90m━━━━━━━━━━━━━━━━━━━━━━━━━━━━━━━━━━━━━━━━\u001b[0m \u001b[32m126.0/126.0 kB\u001b[0m \u001b[31m1.4 MB/s\u001b[0m eta \u001b[36m0:00:00\u001b[0m\n",
            "\u001b[?25hRequirement already satisfied: requests in /usr/local/lib/python3.10/dist-packages (from vaderSentiment) (2.31.0)\n",
            "Requirement already satisfied: charset-normalizer<4,>=2 in /usr/local/lib/python3.10/dist-packages (from requests->vaderSentiment) (3.3.2)\n",
            "Requirement already satisfied: idna<4,>=2.5 in /usr/local/lib/python3.10/dist-packages (from requests->vaderSentiment) (3.6)\n",
            "Requirement already satisfied: urllib3<3,>=1.21.1 in /usr/local/lib/python3.10/dist-packages (from requests->vaderSentiment) (2.0.7)\n",
            "Requirement already satisfied: certifi>=2017.4.17 in /usr/local/lib/python3.10/dist-packages (from requests->vaderSentiment) (2023.11.17)\n",
            "Installing collected packages: vaderSentiment\n",
            "Successfully installed vaderSentiment-3.3.2\n"
          ]
        }
      ]
    },
    {
      "cell_type": "code",
      "source": [
        "# reference: https://www.geeksforgeeks.org/python-sentiment-analysis-using-vader/\n",
        "from vaderSentiment.vaderSentiment import SentimentIntensityAnalyzer\n",
        "\n",
        "# Vader prediction\n",
        "analyser = SentimentIntensityAnalyzer()\n",
        "\n",
        "df['vader prediction'] = df['Review'].apply(lambda sentence: 'positive' if (analyser.polarity_scores(sentence)['compound'] >= 0.05)\n",
        "                                                                        else\n",
        "                                          ('negative' if (analyser.polarity_scores(sentence)['compound'] <= -0.05) else 'neutral'))\n",
        "\n",
        "print(df.head())"
      ],
      "metadata": {
        "colab": {
          "base_uri": "https://localhost:8080/",
          "height": 52
        },
        "id": "SFUuAQgG261B",
        "outputId": "4c5961ae-20e7-461a-edb4-aa7f0cac0faf"
      },
      "execution_count": null,
      "outputs": [
        {
          "output_type": "execute_result",
          "data": {
            "text/plain": [
              "'\\n# Evaluating the predictions\\nprint(\"Accuracy:\", accuracy_score([\\'Sentiment value\\'], predictions))\\nprint(\"\\nClassification Report:\\n\", classification_report(test_data[\\'Sentiment value\\'], predictions))\\n'"
            ],
            "application/vnd.google.colaboratory.intrinsic+json": {
              "type": "string"
            }
          },
          "metadata": {},
          "execution_count": 11
        }
      ]
    },
    {
      "cell_type": "code",
      "source": [
        "# Evaluating the predictions\n",
        "print(\"Accuracy:\", accuracy_score(df['Sentiment value'], df['vader prediction']))\n",
        "print(\"\\nClassification Report:\\n\", classification_report(df['Sentiment value'], df['vader prediction']))"
      ],
      "metadata": {
        "colab": {
          "base_uri": "https://localhost:8080/"
        },
        "id": "6UbMuHmH8Mab",
        "outputId": "f9068f4b-765f-47ba-b2cf-4215962b565d"
      },
      "execution_count": null,
      "outputs": [
        {
          "output_type": "stream",
          "name": "stdout",
          "text": [
            "Accuracy: 0.5703828153126125\n",
            "\n",
            "Classification Report:\n",
            "               precision    recall  f1-score   support\n",
            "\n",
            "    negative       0.73      0.49      0.58     10000\n",
            "     neutral       0.21      0.08      0.12      5000\n",
            "    positive       0.55      0.90      0.68      9999\n",
            "\n",
            "    accuracy                           0.57     24999\n",
            "   macro avg       0.49      0.49      0.46     24999\n",
            "weighted avg       0.55      0.57      0.53     24999\n",
            "\n"
          ]
        }
      ]
    },
    {
      "cell_type": "markdown",
      "source": [
        "---------------------------------------------------------------------------------------------------- **BERT** -------------------------------------------------------------------------------------------------------"
      ],
      "metadata": {
        "id": "GPyn291s9iz8"
      }
    },
    {
      "cell_type": "code",
      "source": [
        "\"\"\"This dataset cannot be used\n",
        "\n",
        "# Data preprocessing\n",
        "\n",
        "# reading csv using pandas\n",
        "drive.mount('/content/drive/')\n",
        "df = pd.read_csv('drive/MyDrive/nlp_data/Loughran-McDonald_MasterDictionary_1993-2021.csv')\n",
        "\n",
        "print(df.head())\n",
        "print(len(df.index))\n",
        "print(df['Negative'].value_counts())\"\"\""
      ],
      "metadata": {
        "colab": {
          "base_uri": "https://localhost:8080/"
        },
        "id": "eG0MJxSSbGUT",
        "outputId": "2be91b1a-b808-4ec4-c71e-256da9f3ebc2"
      },
      "execution_count": null,
      "outputs": [
        {
          "output_type": "stream",
          "name": "stdout",
          "text": [
            "Drive already mounted at /content/drive/; to attempt to forcibly remount, call drive.mount(\"/content/drive/\", force_remount=True).\n",
            "        Word  Seq_num  Word Count  Word Proportion  Average Proportion  \\\n",
            "0   AARDVARK        1         354     1.550080e-08        1.422600e-08   \n",
            "1  AARDVARKS        2           3     1.313627e-10        8.653817e-12   \n",
            "2      ABACI        3           9     3.940882e-10        1.169679e-10   \n",
            "3      ABACK        4          29     1.269840e-09        6.654735e-10   \n",
            "4     ABACUS        5        8570     3.752595e-07        3.809464e-07   \n",
            "\n",
            "        Std Dev  Doc Count  Negative  Positive  Uncertainty  Litigious  \\\n",
            "0  3.815486e-06         99         0         0            0          0   \n",
            "1  9.241714e-09          1         0         0            0          0   \n",
            "2  5.290465e-08          7         0         0            0          0   \n",
            "3  1.595100e-07         28         0         0            0          0   \n",
            "4  3.529356e-05       1108         0         0            0          0   \n",
            "\n",
            "   Strong_Modal  Weak_Modal  Constraining  Syllables     Source  \n",
            "0             0           0             0          2  12of12inf  \n",
            "1             0           0             0          2  12of12inf  \n",
            "2             0           0             0          3  12of12inf  \n",
            "3             0           0             0          2  12of12inf  \n",
            "4             0           0             0          3  12of12inf  \n",
            "86531\n",
            " 0       84176\n",
            " 2009     2305\n",
            " 2014       26\n",
            " 2011       13\n",
            "-2020       10\n",
            " 2012        1\n",
            "Name: Negative, dtype: int64\n"
          ]
        }
      ]
    },
    {
      "cell_type": "code",
      "source": [
        "drop_indices = np.random.choice(df.index, 24500, replace=False)\n",
        "df = df.drop(drop_indices)\n",
        "print(df['Sentiment value'].value_counts())\n",
        "print(len(df.index))"
      ],
      "metadata": {
        "colab": {
          "base_uri": "https://localhost:8080/"
        },
        "id": "lasMAr9HfXqg",
        "outputId": "1d9625d8-83a4-48d6-cf1c-f5329afce80f"
      },
      "execution_count": null,
      "outputs": [
        {
          "output_type": "stream",
          "name": "stdout",
          "text": [
            "positive    195\n",
            "negative    193\n",
            "neutral     111\n",
            "Name: Sentiment value, dtype: int64\n",
            "499\n"
          ]
        }
      ]
    },
    {
      "cell_type": "code",
      "source": [
        "# reference: https://www.geeksforgeeks.org/sentiment-classification-using-bert/\n",
        "\n",
        "from transformers import BertTokenizer, TFBertForSequenceClassification\n",
        "\n",
        "# Split the data into training and testing sets\n",
        "train_data, test_data = train_test_split(df, test_size=0.2, random_state=42)\n",
        "\n",
        "def text_cleaning(text):\n",
        "    soup = BeautifulSoup(text, \"html.parser\")\n",
        "    text = re.sub(r'\\[[^]]*\\]', '', soup.get_text())\n",
        "    pattern = r\"[^a-zA-Z0-9\\s,']\"\n",
        "    text = re.sub(pattern, '', text)\n",
        "    return text\n",
        "\n",
        "# Train dataset\n",
        "train_data['Cleaned_sentence'] = train_data['Review'].apply(text_cleaning).tolist()\n",
        "# Test dataset\n",
        "test_data['Cleaned_sentence'] = test_data['Review'].apply(text_cleaning)\n",
        "\n",
        "#Tokenize and encode the data using the BERT tokenizer\n",
        "tokenizer = BertTokenizer.from_pretrained('bert-base-uncased', do_lower_case=True)\n",
        "\n",
        "# creating a binary column for sentiment\n",
        "train_data['Sentiment binary'] = df['Sentiment'].apply(lambda score: 1 if score >= 3 else 0)\n",
        "test_data['Sentiment binary'] = df['Sentiment'].apply(lambda score: 1 if score >= 3 else 0)\n",
        "\n",
        "# Training data\n",
        "Reviews = train_data['Cleaned_sentence']\n",
        "Target = train_data['Sentiment binary']\n",
        "\n",
        "# Test data\n",
        "test_reviews = test_data['Cleaned_sentence']\n",
        "test_targets = test_data['Sentiment binary']\n",
        "\n",
        "# Split TEST data into test and validation\n",
        "x_val, x_test, y_val, y_test = train_test_split(test_reviews,\n",
        "                                                    test_targets,\n",
        "                                                    test_size=0.5,\n",
        "                                                    stratify = test_targets)\n",
        "\n",
        "max_len= 128\n",
        "# Tokenize and encode the sentences\n",
        "X_train_encoded = tokenizer.batch_encode_plus(Reviews.tolist(),\n",
        "                                              padding=True,\n",
        "                                              truncation=True,\n",
        "                                              max_length = max_len,\n",
        "                                              return_tensors='tf')\n",
        "\n",
        "X_val_encoded = tokenizer.batch_encode_plus(x_val.tolist(),\n",
        "                                              padding=True,\n",
        "                                              truncation=True,\n",
        "                                              max_length = max_len,\n",
        "                                              return_tensors='tf')\n",
        "\n",
        "X_test_encoded = tokenizer.batch_encode_plus(x_test.tolist(),\n",
        "                                              padding=True,\n",
        "                                              truncation=True,\n",
        "                                              max_length = max_len,\n",
        "                                              return_tensors='tf')\n",
        "\n",
        "# Intialize the model\n",
        "model = TFBertForSequenceClassification.from_pretrained('bert-base-uncased', num_labels=2)\n",
        "\n",
        "# Compile the model with an appropriate optimizer, loss function, and metrics\n",
        "optimizer = tf.keras.optimizers.Adam(learning_rate=2e-5)\n",
        "loss = tf.keras.losses.SparseCategoricalCrossentropy(from_logits=True)\n",
        "metric = tf.keras.metrics.SparseCategoricalAccuracy('accuracy')\n",
        "model.compile(optimizer=optimizer, loss=loss, metrics=[metric])"
      ],
      "metadata": {
        "colab": {
          "base_uri": "https://localhost:8080/"
        },
        "id": "-tBO_cb58e5i",
        "outputId": "4ff48641-fcf4-4925-957b-ea57b5438e1a"
      },
      "execution_count": null,
      "outputs": [
        {
          "output_type": "stream",
          "name": "stderr",
          "text": [
            "<ipython-input-5-f0a462028d6b>:9: MarkupResemblesLocatorWarning: The input looks more like a filename than markup. You may want to open this file and pass the filehandle into Beautiful Soup.\n",
            "  soup = BeautifulSoup(text, \"html.parser\")\n",
            "<ipython-input-5-f0a462028d6b>:9: MarkupResemblesLocatorWarning: The input looks more like a filename than markup. You may want to open this file and pass the filehandle into Beautiful Soup.\n",
            "  soup = BeautifulSoup(text, \"html.parser\")\n",
            "All PyTorch model weights were used when initializing TFBertForSequenceClassification.\n",
            "\n",
            "Some weights or buffers of the TF 2.0 model TFBertForSequenceClassification were not initialized from the PyTorch model and are newly initialized: ['classifier.weight', 'classifier.bias']\n",
            "You should probably TRAIN this model on a down-stream task to be able to use it for predictions and inference.\n"
          ]
        }
      ]
    },
    {
      "cell_type": "code",
      "source": [
        "# Train the model\n",
        "# attempt 1: batch = 16, epoch = 2, accuracy = 62% (amazon review dataset)\n",
        "\n",
        "history = model.fit(\n",
        "    [X_train_encoded['input_ids'], X_train_encoded['token_type_ids'], X_train_encoded['attention_mask']],\n",
        "    Target,\n",
        "    validation_data=(\n",
        "      [X_val_encoded['input_ids'], X_val_encoded['token_type_ids'], X_val_encoded['attention_mask']],y_val),\n",
        "    batch_size=32,\n",
        "    epochs=5\n",
        ")\n",
        "\n",
        "#Evaluate the model on the test data\n",
        "test_loss, test_accuracy = model.evaluate(\n",
        "    [X_test_encoded['input_ids'], X_test_encoded['token_type_ids'], X_test_encoded['attention_mask']],\n",
        "    y_test\n",
        ")\n",
        "print(f'Test loss: {test_loss}, Test accuracy: {test_accuracy}')"
      ],
      "metadata": {
        "colab": {
          "base_uri": "https://localhost:8080/"
        },
        "id": "YWcXwjQsAn71",
        "outputId": "f517e3c5-ef4d-4169-dc71-a23a2cf7d7b9"
      },
      "execution_count": null,
      "outputs": [
        {
          "output_type": "stream",
          "name": "stdout",
          "text": [
            "Epoch 1/2\n",
            "25/25 [==============================] - 507s 18s/step - loss: 0.6692 - accuracy: 0.6040 - val_loss: 0.6839 - val_accuracy: 0.5800\n",
            "Epoch 2/2\n",
            "25/25 [==============================] - 478s 19s/step - loss: 0.6471 - accuracy: 0.6140 - val_loss: 0.6515 - val_accuracy: 0.6800\n",
            "2/2 [==============================] - 15s 5s/step - loss: 0.6519 - accuracy: 0.6200\n",
            "Test loss: 0.6518710851669312, Test accuracy: 0.6200000047683716\n"
          ]
        }
      ]
    },
    {
      "cell_type": "code",
      "source": [
        "#Save the model and tokenizer to the local folder\n",
        "path = 'drive/MyDrive/nlp_data'\n",
        "\n",
        "# Save tokenizer\n",
        "tokenizer.save_pretrained(path +'/Tokenizer')\n",
        "\n",
        "# Save model\n",
        "model.save_pretrained(path +'/Model')"
      ],
      "metadata": {
        "id": "2U_ixMAAm0ev"
      },
      "execution_count": null,
      "outputs": []
    },
    {
      "cell_type": "code",
      "source": [
        "# testing the saved model\n",
        "\n",
        "from transformers import BertTokenizer, TFBertForSequenceClassification\n",
        "\n",
        "path = 'drive/MyDrive/nlp_data'\n",
        "# Load tokenizer\n",
        "bert_tokenizer = BertTokenizer.from_pretrained(path +'/Tokenizer')\n",
        "\n",
        "# Load model\n",
        "bert_model = TFBertForSequenceClassification.from_pretrained(path +'/Model')\n",
        "\n",
        "pred = bert_model.predict(\n",
        "    [X_test_encoded['input_ids'], X_test_encoded['token_type_ids'], X_test_encoded['attention_mask']])\n",
        "\n",
        "# pred is of type TFSequenceClassifierOutput\n",
        "logits = pred.logits\n",
        "\n",
        "# Use argmax along the appropriate axis to get the predicted labels\n",
        "pred_labels = tf.argmax(logits, axis=1)\n",
        "\n",
        "# Convert the predicted labels to a NumPy array\n",
        "pred_labels = pred_labels.numpy()\n",
        "\n",
        "label = {\n",
        "    1: 'positive',\n",
        "    0: 'Negative'\n",
        "}\n",
        "\n",
        "# Map the predicted labels to their corresponding strings using the label dictionary\n",
        "pred_labels = [label[i] for i in pred_labels]\n",
        "Actual = [label[i] for i in y_test]\n",
        "\n",
        "print(\"Classification Report: \\n\", classification_report(Actual, pred_labels))\n",
        "print(\"\\nAccuracy: \", accuracy_score(Actual, pred_labels))"
      ],
      "metadata": {
        "id": "_rPPO9NFnLbL"
      },
      "execution_count": null,
      "outputs": []
    },
    {
      "cell_type": "code",
      "source": [
        "# checking the trained model on live data\n",
        "\n",
        "from transformers import BertTokenizer, TFBertForSequenceClassification\n",
        "\n",
        "path = 'drive/MyDrive/nlp_data'\n",
        "# Load tokenizer\n",
        "bert_tokenizer = BertTokenizer.from_pretrained(path +'/Tokenizer')\n",
        "\n",
        "# Load model\n",
        "bert_model = TFBertForSequenceClassification.from_pretrained(path +'/Model')\n",
        "\n",
        "def Get_sentiment(Review, Tokenizer=bert_tokenizer, Model=bert_model):\n",
        "    # Convert Review to a list if it's not already a list\n",
        "    if not isinstance(Review, list):\n",
        "        Review = [Review]\n",
        "\n",
        "    Input_ids, Token_type_ids, Attention_mask = Tokenizer.batch_encode_plus(Review,\n",
        "                                                                             padding=True,\n",
        "                                                                             truncation=True,\n",
        "                                                                             max_length=128,\n",
        "                                                                             return_tensors='tf').values()\n",
        "    prediction = Model.predict([Input_ids, Token_type_ids, Attention_mask])\n",
        "\n",
        "    label = {\n",
        "    1: 'positive',\n",
        "    0: 'Negative'\n",
        "    }\n",
        "\n",
        "    # Use argmax along the appropriate axis to get the predicted labels\n",
        "    pred_labels = tf.argmax(prediction.logits, axis=1)\n",
        "\n",
        "    # Convert the TensorFlow tensor to a NumPy array and then to a list to get the predicted sentiment labels\n",
        "    pred_labels = [label[i] for i in pred_labels.numpy().tolist()]\n",
        "    return pred_labels\n",
        "\n",
        "Review ='bad'\n",
        "Get_sentiment(Review)"
      ],
      "metadata": {
        "id": "7E0plN-_ne9-"
      },
      "execution_count": null,
      "outputs": []
    },
    {
      "cell_type": "markdown",
      "source": [
        "------------------------------------------------------------------------------------------- **Google translate api** -------------------------------------------------------------------------------------------------------"
      ],
      "metadata": {
        "id": "H-srLgjOtSev"
      }
    },
    {
      "cell_type": "code",
      "source": [
        "pip install -U deep-translator"
      ],
      "metadata": {
        "colab": {
          "base_uri": "https://localhost:8080/"
        },
        "id": "kD_AhHTEtSAq",
        "outputId": "5dbd6ea4-6152-43a9-f603-02b7e93cdb0e"
      },
      "execution_count": null,
      "outputs": [
        {
          "output_type": "stream",
          "name": "stdout",
          "text": [
            "Collecting deep-translator\n",
            "  Downloading deep_translator-1.11.4-py3-none-any.whl (42 kB)\n",
            "\u001b[?25l     \u001b[90m━━━━━━━━━━━━━━━━━━━━━━━━━━━━━━━━━━━━━━━━\u001b[0m \u001b[32m0.0/42.3 kB\u001b[0m \u001b[31m?\u001b[0m eta \u001b[36m-:--:--\u001b[0m\r\u001b[2K     \u001b[90m━━━━━━━━━━━━━━━━━━━━━━━━━━━━━━━━━━━━━━━━\u001b[0m \u001b[32m42.3/42.3 kB\u001b[0m \u001b[31m1.0 MB/s\u001b[0m eta \u001b[36m0:00:00\u001b[0m\n",
            "\u001b[?25hRequirement already satisfied: beautifulsoup4<5.0.0,>=4.9.1 in /usr/local/lib/python3.10/dist-packages (from deep-translator) (4.11.2)\n",
            "Requirement already satisfied: requests<3.0.0,>=2.23.0 in /usr/local/lib/python3.10/dist-packages (from deep-translator) (2.31.0)\n",
            "Requirement already satisfied: soupsieve>1.2 in /usr/local/lib/python3.10/dist-packages (from beautifulsoup4<5.0.0,>=4.9.1->deep-translator) (2.5)\n",
            "Requirement already satisfied: charset-normalizer<4,>=2 in /usr/local/lib/python3.10/dist-packages (from requests<3.0.0,>=2.23.0->deep-translator) (3.3.2)\n",
            "Requirement already satisfied: idna<4,>=2.5 in /usr/local/lib/python3.10/dist-packages (from requests<3.0.0,>=2.23.0->deep-translator) (3.6)\n",
            "Requirement already satisfied: urllib3<3,>=1.21.1 in /usr/local/lib/python3.10/dist-packages (from requests<3.0.0,>=2.23.0->deep-translator) (2.0.7)\n",
            "Requirement already satisfied: certifi>=2017.4.17 in /usr/local/lib/python3.10/dist-packages (from requests<3.0.0,>=2.23.0->deep-translator) (2023.11.17)\n",
            "Installing collected packages: deep-translator\n",
            "Successfully installed deep-translator-1.11.4\n"
          ]
        }
      ]
    },
    {
      "cell_type": "code",
      "source": [
        "from deep_translator import GoogleTranslator\n",
        "\n",
        "translated = GoogleTranslator(source='auto', target='en').translate(\"Apna gala khud dabana aur Adlabs IPO subscribe karna! Same Same!then subscribe. Apna gala khud dabana\")\n",
        "print(translated)"
      ],
      "metadata": {
        "colab": {
          "base_uri": "https://localhost:8080/"
        },
        "id": "nVvFuUkUtkvR",
        "outputId": "cf7b87a8-b9fe-40b2-f1d2-96b7cab016bd"
      },
      "execution_count": null,
      "outputs": [
        {
          "output_type": "stream",
          "name": "stdout",
          "text": [
            "Press your gala yourself and subscribe to Adlabs IPO! Same Same!then subscribe. pressing my throat myself\n"
          ]
        }
      ]
    },
    {
      "cell_type": "markdown",
      "source": [
        "--------------------------------------------------------------------------------- **Vader and google trans experiment** ------------------------------------------------------------------------------------------"
      ],
      "metadata": {
        "id": "7z-XA90CiDMW"
      }
    },
    {
      "cell_type": "code",
      "source": [
        "pip install vaderSentiment"
      ],
      "metadata": {
        "id": "pnMCMhAPnZW1",
        "colab": {
          "base_uri": "https://localhost:8080/"
        },
        "outputId": "54a23e61-73e3-43c6-87fa-f80cd6914935"
      },
      "execution_count": null,
      "outputs": [
        {
          "output_type": "stream",
          "name": "stdout",
          "text": [
            "Collecting vaderSentiment\n",
            "  Downloading vaderSentiment-3.3.2-py2.py3-none-any.whl (125 kB)\n",
            "\u001b[2K     \u001b[90m━━━━━━━━━━━━━━━━━━━━━━━━━━━━━━━━━━━━━━━━\u001b[0m \u001b[32m126.0/126.0 kB\u001b[0m \u001b[31m1.3 MB/s\u001b[0m eta \u001b[36m0:00:00\u001b[0m\n",
            "\u001b[?25hRequirement already satisfied: requests in /usr/local/lib/python3.10/dist-packages (from vaderSentiment) (2.31.0)\n",
            "Requirement already satisfied: charset-normalizer<4,>=2 in /usr/local/lib/python3.10/dist-packages (from requests->vaderSentiment) (3.3.2)\n",
            "Requirement already satisfied: idna<4,>=2.5 in /usr/local/lib/python3.10/dist-packages (from requests->vaderSentiment) (3.6)\n",
            "Requirement already satisfied: urllib3<3,>=1.21.1 in /usr/local/lib/python3.10/dist-packages (from requests->vaderSentiment) (2.0.7)\n",
            "Requirement already satisfied: certifi>=2017.4.17 in /usr/local/lib/python3.10/dist-packages (from requests->vaderSentiment) (2023.11.17)\n",
            "Installing collected packages: vaderSentiment\n",
            "Successfully installed vaderSentiment-3.3.2\n"
          ]
        }
      ]
    },
    {
      "cell_type": "code",
      "source": [
        "pip install -U deep-translator"
      ],
      "metadata": {
        "colab": {
          "base_uri": "https://localhost:8080/"
        },
        "id": "4PZ3ZbB7ooCJ",
        "outputId": "3625c237-8d73-46be-ede7-d8f20443e243"
      },
      "execution_count": null,
      "outputs": [
        {
          "output_type": "stream",
          "name": "stdout",
          "text": [
            "Collecting deep-translator\n",
            "  Downloading deep_translator-1.11.4-py3-none-any.whl (42 kB)\n",
            "\u001b[?25l     \u001b[90m━━━━━━━━━━━━━━━━━━━━━━━━━━━━━━━━━━━━━━━━\u001b[0m \u001b[32m0.0/42.3 kB\u001b[0m \u001b[31m?\u001b[0m eta \u001b[36m-:--:--\u001b[0m\r\u001b[2K     \u001b[91m━━━━━━━━━━━━━━━━━━━━━━━━━━━━━━━━━━━━━━\u001b[0m\u001b[91m╸\u001b[0m\u001b[90m━\u001b[0m \u001b[32m41.0/42.3 kB\u001b[0m \u001b[31m940.3 kB/s\u001b[0m eta \u001b[36m0:00:01\u001b[0m\r\u001b[2K     \u001b[90m━━━━━━━━━━━━━━━━━━━━━━━━━━━━━━━━━━━━━━━━\u001b[0m \u001b[32m42.3/42.3 kB\u001b[0m \u001b[31m766.1 kB/s\u001b[0m eta \u001b[36m0:00:00\u001b[0m\n",
            "\u001b[?25hRequirement already satisfied: beautifulsoup4<5.0.0,>=4.9.1 in /usr/local/lib/python3.10/dist-packages (from deep-translator) (4.11.2)\n",
            "Requirement already satisfied: requests<3.0.0,>=2.23.0 in /usr/local/lib/python3.10/dist-packages (from deep-translator) (2.31.0)\n",
            "Requirement already satisfied: soupsieve>1.2 in /usr/local/lib/python3.10/dist-packages (from beautifulsoup4<5.0.0,>=4.9.1->deep-translator) (2.5)\n",
            "Requirement already satisfied: charset-normalizer<4,>=2 in /usr/local/lib/python3.10/dist-packages (from requests<3.0.0,>=2.23.0->deep-translator) (3.3.2)\n",
            "Requirement already satisfied: idna<4,>=2.5 in /usr/local/lib/python3.10/dist-packages (from requests<3.0.0,>=2.23.0->deep-translator) (3.6)\n",
            "Requirement already satisfied: urllib3<3,>=1.21.1 in /usr/local/lib/python3.10/dist-packages (from requests<3.0.0,>=2.23.0->deep-translator) (2.0.7)\n",
            "Requirement already satisfied: certifi>=2017.4.17 in /usr/local/lib/python3.10/dist-packages (from requests<3.0.0,>=2.23.0->deep-translator) (2023.11.17)\n",
            "Installing collected packages: deep-translator\n",
            "Successfully installed deep-translator-1.11.4\n"
          ]
        }
      ]
    },
    {
      "cell_type": "code",
      "source": [
        "# Data preprocessing\n",
        "\n",
        "# reading csv using pandas\n",
        "drive.mount('/content/drive/')\n",
        "\n",
        "xls = pd.ExcelFile('drive/MyDrive/nlp_data/radiant-cash-management-ipo.xlsx')\n",
        "my_df = pd.read_excel(xls, 'Message Board')\n",
        "\n",
        "print(my_df.head())\n",
        "print(len(my_df.index))"
      ],
      "metadata": {
        "colab": {
          "base_uri": "https://localhost:8080/"
        },
        "id": "NnlrPF1eiEC_",
        "outputId": "6cd38323-bf8e-4e24-fa64-a44a52e900a6"
      },
      "execution_count": null,
      "outputs": [
        {
          "output_type": "stream",
          "name": "stdout",
          "text": [
            "Mounted at /content/drive/\n",
            "                 MsgNo.                     Date  Name  \\\n",
            "0  127. Gaurav DD dimer  Jan 28, 2023 1:29:10 PM   NaN   \n",
            "1        126. Takamichi  Jan 5, 2023 10:48:35 AM   NaN   \n",
            "2    126.1. Multibagger  Jan 5, 2023 12:30:47 PM   NaN   \n",
            "3          126.2. PKRAJ   Jan 5, 2023 4:34:10 PM   NaN   \n",
            "4          125. Eagleye   Jan 4, 2023 5:01:34 PM   NaN   \n",
            "\n",
            "                                             Message  \n",
            "0  Results Today, with Dividend consideration in ...  \n",
            "1  Just wanted to say 2 things1. Inputs are not r...  \n",
            "2  Focus on increasing comment quality and not on...  \n",
            "3  @TakamichiYou are absolutely right. There are ...  \n",
            "4  THE MOST RELIABLEList of Mainboard IPOs IN THE...  \n",
            "290\n"
          ]
        }
      ]
    },
    {
      "cell_type": "code",
      "source": [
        "# text cleaning\n",
        "\n",
        "# dropping columns\n",
        "my_df = my_df.drop(['MsgNo.', 'Date', 'Name'], axis=1)\n",
        "\n",
        "# Handling missing values\n",
        "my_df = my_df.dropna()\n",
        "\n",
        "# text cleaning\n",
        "def text_cleaning(text):\n",
        "    soup = BeautifulSoup(text, \"html.parser\")\n",
        "    text = re.sub(r'\\[[^]]*\\]', '', soup.get_text())\n",
        "    pattern = r\"[^a-zA-Z0-9\\s,']\"\n",
        "    text = re.sub(pattern, '', text)\n",
        "    return text\n",
        "\n",
        "my_df['cleaned message'] = my_df['Message'].apply(text_cleaning)\n",
        "\n",
        "print(my_df.head())\n",
        "print(len(my_df.index))\n",
        "\n",
        "\"\"\"\n",
        "drop_indices = np.random.choice(my_df.index, 285, replace=False)\n",
        "my_df = my_df.drop(drop_indices)\n",
        "print(my_df.head())\n",
        "print(len(my_df.index))\n",
        "\"\"\""
      ],
      "metadata": {
        "colab": {
          "base_uri": "https://localhost:8080/",
          "height": 337
        },
        "id": "lq4Jx59kjZdr",
        "outputId": "973dbda8-76d0-4663-c45a-7c4b98861a28"
      },
      "execution_count": null,
      "outputs": [
        {
          "output_type": "stream",
          "name": "stdout",
          "text": [
            "                                             Message  \\\n",
            "0  Results Today, with Dividend consideration in ...   \n",
            "1  Just wanted to say 2 things1. Inputs are not r...   \n",
            "2  Focus on increasing comment quality and not on...   \n",
            "3  @TakamichiYou are absolutely right. There are ...   \n",
            "4  THE MOST RELIABLEList of Mainboard IPOs IN THE...   \n",
            "\n",
            "                                     cleaned message  \n",
            "0  Results Today, with Dividend consideration in ...  \n",
            "1  Just wanted to say 2 things1 Inputs are not re...  \n",
            "2  Focus on increasing comment quality and not on...  \n",
            "3  TakamichiYou are absolutely right There are ma...  \n",
            "4  THE MOST RELIABLEList of Mainboard IPOs IN THE...  \n",
            "290\n"
          ]
        },
        {
          "output_type": "stream",
          "name": "stderr",
          "text": [
            "<ipython-input-4-e30ba331cd7b>:11: MarkupResemblesLocatorWarning: The input looks more like a filename than markup. You may want to open this file and pass the filehandle into Beautiful Soup.\n",
            "  soup = BeautifulSoup(text, \"html.parser\")\n"
          ]
        },
        {
          "output_type": "execute_result",
          "data": {
            "text/plain": [
              "'\\ndrop_indices = np.random.choice(my_df.index, 285, replace=False)\\nmy_df = my_df.drop(drop_indices)\\nprint(my_df.head())\\nprint(len(my_df.index))\\n'"
            ],
            "application/vnd.google.colaboratory.intrinsic+json": {
              "type": "string"
            }
          },
          "metadata": {},
          "execution_count": 4
        }
      ]
    },
    {
      "cell_type": "code",
      "source": [
        "count = 0\n",
        "for i in my_df['cleaned message']:\n",
        "  if count>5: break\n",
        "  print(i, \"\\n\")\n",
        "  #count += 1"
      ],
      "metadata": {
        "id": "FjvFvuUZnTt2"
      },
      "execution_count": null,
      "outputs": []
    },
    {
      "cell_type": "code",
      "source": [
        "# reference: https://www.geeksforgeeks.org/python-sentiment-analysis-using-vader/\n",
        "from vaderSentiment.vaderSentiment import SentimentIntensityAnalyzer\n",
        "from deep_translator import GoogleTranslator\n",
        "\n",
        "# Vader prediction\n",
        "analyser = SentimentIntensityAnalyzer()\n",
        "\n",
        "def gtrans_func(sentence):\n",
        "  return GoogleTranslator(source='auto', target='en').translate(sentence)\n",
        "\n",
        "#my_df['vader prediction'] = my_df['Message'].apply(lambda sentence: 'positive' if (analyser.polarity_scores(sentence)['compound'] >= 0.05)\n",
        "#                                                                        else\n",
        "#                                          ('negative' if (analyser.polarity_scores(sentence)['compound'] <= -0.05) else 'neutral'))\n",
        "\n",
        "my_df['vader values'] = my_df['cleaned message'].apply(lambda sentence: analyser.polarity_scores(sentence))\n",
        "my_df['positive score'] = my_df['vader values'].apply(lambda val_dict: val_dict['pos'])\n",
        "my_df['negative score'] = my_df['vader values'].apply(lambda val_dict: val_dict['neg'])\n",
        "my_df['neutral score'] = my_df['vader values'].apply(lambda val_dict: val_dict['neu'])\n",
        "my_df['compound score'] = my_df['vader values'].apply(lambda val_dict: val_dict['compound'])\n",
        "\n",
        "print(my_df.head())\n",
        "print(len(my_df.index))"
      ],
      "metadata": {
        "colab": {
          "base_uri": "https://localhost:8080/"
        },
        "id": "cSPedBtZmfAS",
        "outputId": "477d4a2c-3c6c-47c3-aedd-f7fba61d7426"
      },
      "execution_count": null,
      "outputs": [
        {
          "output_type": "stream",
          "name": "stdout",
          "text": [
            "                                             Message  \\\n",
            "0  Results Today, with Dividend consideration in ...   \n",
            "1  Just wanted to say 2 things1. Inputs are not r...   \n",
            "2  Focus on increasing comment quality and not on...   \n",
            "3  @TakamichiYou are absolutely right. There are ...   \n",
            "4  THE MOST RELIABLEList of Mainboard IPOs IN THE...   \n",
            "\n",
            "                                     cleaned message  \\\n",
            "0  Results Today, with Dividend consideration in ...   \n",
            "1  Just wanted to say 2 things1 Inputs are not re...   \n",
            "2  Focus on increasing comment quality and not on...   \n",
            "3  TakamichiYou are absolutely right There are ma...   \n",
            "4  THE MOST RELIABLEList of Mainboard IPOs IN THE...   \n",
            "\n",
            "                                        vader values  positive score  \\\n",
            "0  {'neg': 0.0, 'neu': 1.0, 'pos': 0.0, 'compound...           0.000   \n",
            "1  {'neg': 0.037, 'neu': 0.87, 'pos': 0.094, 'com...           0.094   \n",
            "2  {'neg': 0.0, 'neu': 1.0, 'pos': 0.0, 'compound...           0.000   \n",
            "3  {'neg': 0.045, 'neu': 0.9, 'pos': 0.055, 'comp...           0.055   \n",
            "4  {'neg': 0.005, 'neu': 0.677, 'pos': 0.318, 'co...           0.318   \n",
            "\n",
            "   negative score  neutral score  compound score  \n",
            "0           0.000          1.000          0.0000  \n",
            "1           0.037          0.870          0.5106  \n",
            "2           0.000          1.000          0.0000  \n",
            "3           0.045          0.900          0.1494  \n",
            "4           0.005          0.677          0.9997  \n",
            "290\n"
          ]
        }
      ]
    },
    {
      "cell_type": "code",
      "source": [
        "print(\"average positive:\", my_df['positive score'].sum()/len(my_df.index))\n",
        "print(\"average negative:\", my_df['negative score'].sum()/len(my_df.index))\n",
        "print(\"average neutral:\", my_df['neutral score'].sum()/len(my_df.index))\n",
        "print(\"average compound:\", my_df['compound score'].sum()/len(my_df.index))"
      ],
      "metadata": {
        "colab": {
          "base_uri": "https://localhost:8080/"
        },
        "id": "EmFy4lGCLdbl",
        "outputId": "2abb3345-bd50-48d5-896d-69ea27348592"
      },
      "execution_count": null,
      "outputs": [
        {
          "output_type": "stream",
          "name": "stdout",
          "text": [
            "average positive: 0.1348689655172414\n",
            "average negative: 0.04285517241379311\n",
            "average neutral: 0.8222758620689655\n",
            "average compound: 0.23206931034482758\n"
          ]
        }
      ]
    },
    {
      "cell_type": "markdown",
      "source": [
        "--------------------------------------------------------------------------------- **Regression** ------------------------------------------------------------------------------------------"
      ],
      "metadata": {
        "id": "YxTeSOVzz50h"
      }
    },
    {
      "cell_type": "code",
      "source": [
        "# Data preprocessing\n",
        "\n",
        "# reading excel using pandas\n",
        "drive.mount('/content/drive/')\n",
        "xls = pd.ExcelFile('drive/MyDrive/nlp_data/Co,base,listing,subs.xlsx')\n",
        "val_df = pd.read_excel(xls, 'Sheet1')\n",
        "\n",
        "# droping null rows\n",
        "val_df = val_df.dropna()\n",
        "\n",
        "# deriving listing difference and percentage\n",
        "val_df = val_df.assign(listing_difference = lambda x: (x['Open Price.NSE'] - x['Final Issue Price']))\n",
        "val_df = val_df.assign(listing_percentage = lambda x: (x['listing_difference']/x['Final Issue Price']))\n",
        "\n",
        "print(val_df.head())\n",
        "print(len(val_df.index))"
      ],
      "metadata": {
        "colab": {
          "base_uri": "https://localhost:8080/"
        },
        "id": "ahRQ1LgFqMRl",
        "outputId": "0f0e0d8f-f701-4f98-db33-903ace428d14"
      },
      "execution_count": null,
      "outputs": [
        {
          "output_type": "stream",
          "name": "stdout",
          "text": [
            "Drive already mounted at /content/drive/; to attempt to forcibly remount, call drive.mount(\"/content/drive/\", force_remount=True).\n",
            "                     Source.Name  BSE Symbol  NSE Symbol  \\\n",
            "0  adlabs_entertainment_ipo.xlsx    539056.0    IMAGICAA   \n",
            "1    alkem_laboratories_ipo.xlsx    539523.0       ALKEM   \n",
            "2       cafe_coffee_day_ipo.xlsx    539436.0   COFFEEDAY   \n",
            "3       dr_lal_pathlabs_ipo.xlsx    539524.0  LALPATHLAB   \n",
            "4                indigo_ipo.xlsx    539448.0      INDIGO   \n",
            "\n",
            "                   NAME  Final Issue Price  Open Price.BSE  Open Price.NSE  \\\n",
            "0  Adlabs_Entertainment              180.0          167.95           162.2   \n",
            "1    Alkem_Laboratories             1050.0         1380.00          1380.0   \n",
            "2       Cafe_Coffee_Day              328.0          313.00           317.0   \n",
            "3       Dr_Lal_Pathlabs              550.0          717.00           720.0   \n",
            "4                Indigo              765.0          856.00           855.8   \n",
            "\n",
            "   Close Price.BSE  Close Price.NSE  Subscription (times)  listing_difference  \\\n",
            "0           191.25           191.50                  1.09               -17.8   \n",
            "1          1381.45          1381.70                 44.29               330.0   \n",
            "2           270.15           271.00                  1.82               -11.0   \n",
            "3           824.15           825.00                 33.41               170.0   \n",
            "4           878.45           877.25                  6.15                90.8   \n",
            "\n",
            "   listing_percentage  \n",
            "0           -0.098889  \n",
            "1            0.314286  \n",
            "2           -0.033537  \n",
            "3            0.309091  \n",
            "4            0.118693  \n",
            "257\n"
          ]
        }
      ]
    },
    {
      "cell_type": "code",
      "source": [
        "sb.heatmap(val_df.corr(), cmap=\"YlGnBu\", annot=True)"
      ],
      "metadata": {
        "colab": {
          "base_uri": "https://localhost:8080/",
          "height": 632
        },
        "id": "PKDB1xaD0aVK",
        "outputId": "b5920844-7a1b-405c-b4b3-4fc897097671"
      },
      "execution_count": null,
      "outputs": [
        {
          "output_type": "stream",
          "name": "stderr",
          "text": [
            "<ipython-input-6-bf60d54bac09>:1: FutureWarning: The default value of numeric_only in DataFrame.corr is deprecated. In a future version, it will default to False. Select only valid columns or specify the value of numeric_only to silence this warning.\n",
            "  sb.heatmap(val_df.corr(), cmap=\"YlGnBu\", annot=True)\n"
          ]
        },
        {
          "output_type": "execute_result",
          "data": {
            "text/plain": [
              "<Axes: >"
            ]
          },
          "metadata": {},
          "execution_count": 6
        },
        {
          "output_type": "display_data",
          "data": {
            "text/plain": [
              "<Figure size 640x480 with 2 Axes>"
            ],
            "image/png": "[encoded data removed]"
          },
          "metadata": {}
        }
      ]
    },
    {
      "cell_type": "code",
      "source": [
        "import matplotlib.pyplot as plt\n",
        "plt.scatter(val_df['Subscription (times)'], val_df['listing_percentage'])\n",
        "plt.xlabel('Subscription (times)')\n",
        "plt.ylabel('listing_percentage')"
      ],
      "metadata": {
        "colab": {
          "base_uri": "https://localhost:8080/",
          "height": 486
        },
        "id": "TrUn4q_g1SKw",
        "outputId": "e96fb196-1176-48da-e1bc-b83de6db597b"
      },
      "execution_count": null,
      "outputs": [
        {
          "output_type": "execute_result",
          "data": {
            "text/plain": [
              "Text(0, 0.5, 'listing_percentage')"
            ]
          },
          "metadata": {},
          "execution_count": 17
        },
        {
          "output_type": "display_data",
          "data": {
            "text/plain": [
              "<Figure size 640x480 with 1 Axes>"
            ],
            "image/png": "[encoded data removed]"
          },
          "metadata": {}
        }
      ]
    },
    {
      "cell_type": "code",
      "source": [
        "from sklearn import linear_model\n",
        "\n",
        "X = np.array(val_df['Subscription (times)']).reshape(-1, 1)\n",
        "y = np.array(val_df['listing_percentage']).reshape(-1, 1)\n",
        "\n",
        "X_train, X_test, y_train, y_test = train_test_split(X, y, test_size=0.3, random_state=1)\n",
        "\n",
        "regr = linear_model.LinearRegression()\n",
        "regr.fit(X_train, y_train)\n",
        "\n",
        "# variance score: 1 means perfect prediction\n",
        "print('Number of test samples:', len(y_test))\n",
        "print('\\nVariance score on test data:', regr.score(X_test, y_test))\n",
        "print('Variance score on train data:', regr.score(X_train, y_train))\n",
        "\n",
        "# evaluation of the regression\n",
        "data = regr.predict(X_test)\n",
        "# Mean Squared Error: 0 means the model is perfect.\n",
        "print('\\nMean Squared Error', mean_squared_error(y_test, data))\n",
        "# The lower the RMSE, the better the model and its predictions\n",
        "print('Root mean Squared Error', mean_squared_error(y_test, data, squared=False))\n",
        "# The lower the MAE, the better the model and its predictions\n",
        "print('Mean abs Error', mean_absolute_error(y_test, data))\n",
        "\n",
        "op regression - prediction 100 (65%)\n",
        "\n",
        "<Vader>\n",
        "4 params neu pos neg comp\n",
        "adlabs's 200+ comments | avg neu | avg pos | avg neg | avg comp\n",
        "\n",
        "avg pos 0.8\n",
        "avg neg\n",
        "\n",
        "\n",
        "expected 130\n"
      ],
      "metadata": {
        "colab": {
          "base_uri": "https://localhost:8080/"
        },
        "id": "4f8t6Z9O7CUw",
        "outputId": "2a01eec4-e6f9-4b53-d84c-552521ce587e"
      },
      "execution_count": null,
      "outputs": [
        {
          "output_type": "stream",
          "name": "stdout",
          "text": [
            "Number of test samples: 78\n",
            "\n",
            "Variance score on test data: 0.6235240315963405\n",
            "Variance score on train data: 0.6503010503319533\n",
            "\n",
            "Mean Squared Error 0.0323344169709371\n",
            "Root mean Squared Error 0.179817732637627\n",
            "Mean abs Error 0.12922470696979296\n"
          ]
        }
      ]
    },
    {
      "cell_type": "code",
      "source": [
        "plt.scatter(X_test, y_test, color=\"green\", label='Actual data')\n",
        "plt.scatter(X_test, data, color=\"red\", label='Predicted data')\n",
        "plt.legend()\n",
        "plt.xlabel('Subscription (times)')\n",
        "plt.ylabel('listing_percentage')"
      ],
      "metadata": {
        "colab": {
          "base_uri": "https://localhost:8080/",
          "height": 486
        },
        "id": "t5ipb-rYVTMU",
        "outputId": "65480731-fa22-47d1-aa95-10d0b9931c2d"
      },
      "execution_count": null,
      "outputs": [
        {
          "output_type": "execute_result",
          "data": {
            "text/plain": [
              "Text(0, 0.5, 'listing_percentage')"
            ]
          },
          "metadata": {},
          "execution_count": 39
        },
        {
          "output_type": "display_data",
          "data": {
            "text/plain": [
              "<Figure size 640x480 with 1 Axes>"
            ],
            "image/png": "[encoded data removed]"
          },
          "metadata": {}
        }
      ]
    },
    {
      "cell_type": "markdown",
      "source": [
        "--------------------------------------------------------------------------------- **Vader scores for comments** ------------------------------------------------------------------------------------------"
      ],
      "metadata": {
        "id": "amxRoveoaPeg"
      }
    },
    {
      "cell_type": "code",
      "source": [
        "# Data preprocessing\n",
        "\n",
        "# reading csv using pandas\n",
        "drive.mount('/content/drive/')\n",
        "xls = pd.ExcelFile('drive/MyDrive/nlp_data/Message Board 2015-2023.xlsx')\n",
        "my_df = pd.read_excel(xls, 'Data from chittorgarh website')\n",
        "\n",
        "print(my_df.head())\n",
        "print(len(my_df.index))"
      ],
      "metadata": {
        "colab": {
          "base_uri": "https://localhost:8080/"
        },
        "id": "cridTxf2aO9R",
        "outputId": "eec49c81-2ebb-4fae-e87e-a7d23341a701"
      },
      "execution_count": null,
      "outputs": [
        {
          "output_type": "stream",
          "name": "stdout",
          "text": [
            "Drive already mounted at /content/drive/; to attempt to forcibly remount, call drive.mount(\"/content/drive/\", force_remount=True).\n",
            "                     Source.Name                MsgNo.                Date  \\\n",
            "0  adlabs_entertainment_ipo.xlsx      84. RAJESH SINGH 2015-05-21 16:56:04   \n",
            "1  adlabs_entertainment_ipo.xlsx  83. VINOD JAIN NICKY 2015-05-18 16:01:11   \n",
            "2  adlabs_entertainment_ipo.xlsx         82. Vraj Shah 2015-04-06 19:19:42   \n",
            "3  adlabs_entertainment_ipo.xlsx            81. PavanM 2015-04-06 10:47:16   \n",
            "4  adlabs_entertainment_ipo.xlsx          81.1. sushil 2015-04-06 11:47:11   \n",
            "\n",
            "                                  Message  \n",
            "0             My choice is Adlabs.Regards  \n",
            "1                     ANY OTHER NEW ISSUE  \n",
            "2                      Rex issue declared  \n",
            "3  Excellent recovery...now at 199..enjoy  \n",
            "4                 price 180.00 at 1145 am  \n",
            "335985\n"
          ]
        }
      ]
    },
    {
      "cell_type": "code",
      "source": [
        "# text cleaning\n",
        "\n",
        "# dropping columns\n",
        "# my_df = my_df.drop(['MsgNo.', 'Date'], axis=1)\n",
        "\n",
        "# Handling missing values\n",
        "my_df = my_df.dropna()\n",
        "\n",
        "# text cleaning\n",
        "def text_cleaning(text):\n",
        "    soup = BeautifulSoup(text, \"html.parser\")\n",
        "    text = re.sub(r'\\[[^]]*\\]', '', soup.get_text())\n",
        "    pattern = r\"[^a-zA-Z0-9\\s,']\"\n",
        "    text = re.sub(pattern, '', text)\n",
        "    return text\n",
        "\n",
        "my_df['cleaned message'] = my_df['Message'].apply(text_cleaning)\n",
        "\n",
        "print(my_df.head())\n",
        "print(len(my_df.index))"
      ],
      "metadata": {
        "colab": {
          "base_uri": "https://localhost:8080/"
        },
        "id": "UKDCn7BkakM0",
        "outputId": "f90a500e-dae0-4755-d6f8-6e305fad932a"
      },
      "execution_count": null,
      "outputs": [
        {
          "output_type": "stream",
          "name": "stderr",
          "text": [
            "<ipython-input-21-9d17cc8c1f3f>:11: MarkupResemblesLocatorWarning: The input looks more like a filename than markup. You may want to open this file and pass the filehandle into Beautiful Soup.\n",
            "  soup = BeautifulSoup(text, \"html.parser\")\n",
            "<ipython-input-21-9d17cc8c1f3f>:11: MarkupResemblesLocatorWarning: The input looks more like a URL than markup. You may want to use an HTTP client like requests to get the document behind the URL, and feed that document to Beautiful Soup.\n",
            "  soup = BeautifulSoup(text, \"html.parser\")\n"
          ]
        },
        {
          "output_type": "stream",
          "name": "stdout",
          "text": [
            "                     Source.Name                MsgNo.                Date  \\\n",
            "0  adlabs_entertainment_ipo.xlsx      84. RAJESH SINGH 2015-05-21 16:56:04   \n",
            "1  adlabs_entertainment_ipo.xlsx  83. VINOD JAIN NICKY 2015-05-18 16:01:11   \n",
            "2  adlabs_entertainment_ipo.xlsx         82. Vraj Shah 2015-04-06 19:19:42   \n",
            "3  adlabs_entertainment_ipo.xlsx            81. PavanM 2015-04-06 10:47:16   \n",
            "4  adlabs_entertainment_ipo.xlsx          81.1. sushil 2015-04-06 11:47:11   \n",
            "\n",
            "                                  Message                    cleaned message  \n",
            "0             My choice is Adlabs.Regards         My choice is AdlabsRegards  \n",
            "1                     ANY OTHER NEW ISSUE                ANY OTHER NEW ISSUE  \n",
            "2                      Rex issue declared                 Rex issue declared  \n",
            "3  Excellent recovery...now at 199..enjoy  Excellent recoverynow at 199enjoy  \n",
            "4                 price 180.00 at 1145 am             price 18000 at 1145 am  \n",
            "335832\n"
          ]
        }
      ]
    },
    {
      "cell_type": "code",
      "source": [
        "pip install vaderSentiment"
      ],
      "metadata": {
        "colab": {
          "base_uri": "https://localhost:8080/"
        },
        "id": "lHQljlKuNWDC",
        "outputId": "6ff81b4d-1d9c-4737-ce45-b80000dae3df"
      },
      "execution_count": null,
      "outputs": [
        {
          "output_type": "stream",
          "name": "stdout",
          "text": [
            "Requirement already satisfied: vaderSentiment in /usr/local/lib/python3.10/dist-packages (3.3.2)\n",
            "Requirement already satisfied: requests in /usr/local/lib/python3.10/dist-packages (from vaderSentiment) (2.31.0)\n",
            "Requirement already satisfied: charset-normalizer<4,>=2 in /usr/local/lib/python3.10/dist-packages (from requests->vaderSentiment) (3.3.2)\n",
            "Requirement already satisfied: idna<4,>=2.5 in /usr/local/lib/python3.10/dist-packages (from requests->vaderSentiment) (3.6)\n",
            "Requirement already satisfied: urllib3<3,>=1.21.1 in /usr/local/lib/python3.10/dist-packages (from requests->vaderSentiment) (2.0.7)\n",
            "Requirement already satisfied: certifi>=2017.4.17 in /usr/local/lib/python3.10/dist-packages (from requests->vaderSentiment) (2023.11.17)\n"
          ]
        }
      ]
    },
    {
      "cell_type": "code",
      "source": [
        "# reference: https://www.geeksforgeeks.org/python-sentiment-analysis-using-vader/\n",
        "from vaderSentiment.vaderSentiment import SentimentIntensityAnalyzer\n",
        "\n",
        "# Vader prediction\n",
        "analyser = SentimentIntensityAnalyzer()\n",
        "\n",
        "my_df['vader values'] = my_df['cleaned message'].apply(lambda sentence: analyser.polarity_scores(sentence))\n",
        "my_df['positive score'] = my_df['vader values'].apply(lambda val_dict: val_dict['pos'])\n",
        "my_df['negative score'] = my_df['vader values'].apply(lambda val_dict: val_dict['neg'])\n",
        "my_df['neutral score'] = my_df['vader values'].apply(lambda val_dict: val_dict['neu'])\n",
        "my_df['compound score'] = my_df['vader values'].apply(lambda val_dict: val_dict['compound'])\n",
        "\n",
        "print(my_df.head())\n",
        "print(len(my_df.index))"
      ],
      "metadata": {
        "colab": {
          "base_uri": "https://localhost:8080/"
        },
        "id": "APorY36vdk3C",
        "outputId": "9061296d-8aab-4e76-af4c-e62cc92f89b8"
      },
      "execution_count": null,
      "outputs": [
        {
          "output_type": "stream",
          "name": "stdout",
          "text": [
            "                     Source.Name                MsgNo.                Date  \\\n",
            "0  adlabs_entertainment_ipo.xlsx      84. RAJESH SINGH 2015-05-21 16:56:04   \n",
            "1  adlabs_entertainment_ipo.xlsx  83. VINOD JAIN NICKY 2015-05-18 16:01:11   \n",
            "2  adlabs_entertainment_ipo.xlsx         82. Vraj Shah 2015-04-06 19:19:42   \n",
            "3  adlabs_entertainment_ipo.xlsx            81. PavanM 2015-04-06 10:47:16   \n",
            "4  adlabs_entertainment_ipo.xlsx          81.1. sushil 2015-04-06 11:47:11   \n",
            "\n",
            "                                  Message                    cleaned message  \\\n",
            "0             My choice is Adlabs.Regards         My choice is AdlabsRegards   \n",
            "1                     ANY OTHER NEW ISSUE                ANY OTHER NEW ISSUE   \n",
            "2                      Rex issue declared                 Rex issue declared   \n",
            "3  Excellent recovery...now at 199..enjoy  Excellent recoverynow at 199enjoy   \n",
            "4                 price 180.00 at 1145 am             price 18000 at 1145 am   \n",
            "\n",
            "                                        vader values  positive score  \\\n",
            "0  {'neg': 0.0, 'neu': 1.0, 'pos': 0.0, 'compound...           0.000   \n",
            "1  {'neg': 0.0, 'neu': 1.0, 'pos': 0.0, 'compound...           0.000   \n",
            "2  {'neg': 0.0, 'neu': 1.0, 'pos': 0.0, 'compound...           0.000   \n",
            "3  {'neg': 0.0, 'neu': 0.448, 'pos': 0.552, 'comp...           0.552   \n",
            "4  {'neg': 0.0, 'neu': 1.0, 'pos': 0.0, 'compound...           0.000   \n",
            "\n",
            "   negative score  neutral score  compound score  \n",
            "0             0.0          1.000          0.0000  \n",
            "1             0.0          1.000          0.0000  \n",
            "2             0.0          1.000          0.0000  \n",
            "3             0.0          0.448          0.5719  \n",
            "4             0.0          1.000          0.0000  \n",
            "335832\n"
          ]
        }
      ]
    },
    {
      "cell_type": "code",
      "source": [
        "#Save the dataframe into csv\n",
        "#import os\n",
        "#path = os.getcwd()\n",
        "#my_df.to_csv(path + '/MyDrive/nlp_data/vader_messages.csv')\n",
        "#print('file written!')"
      ],
      "metadata": {
        "colab": {
          "base_uri": "https://localhost:8080/"
        },
        "id": "KPoyjPWMNpV1",
        "outputId": "3ecf4508-f773-4b7f-aa4b-cacd0295c60f"
      },
      "execution_count": null,
      "outputs": [
        {
          "output_type": "stream",
          "name": "stdout",
          "text": [
            "file written!\n"
          ]
        }
      ]
    },
    {
      "cell_type": "markdown",
      "source": [
        "--------------------------------------------------------------------------------- **Final** ------------------------------------------------------------------------------------------"
      ],
      "metadata": {
        "id": "UiPUuxgxRsuM"
      }
    },
    {
      "cell_type": "code",
      "source": [
        "# Data preprocessing\n",
        "\n",
        "# reading csv using pandas\n",
        "drive.mount('/content/drive/')\n",
        "\n",
        "# this df contains vader scores of all the messages\n",
        "vader_df = pd.read_csv('drive/MyDrive/nlp_data/vader_messages.csv')\n",
        "\n",
        "print(vader_df.head())\n",
        "print(len(vader_df.index))"
      ],
      "metadata": {
        "colab": {
          "base_uri": "https://localhost:8080/"
        },
        "id": "spRDVh1zPY4u",
        "outputId": "debdb0df-41e3-4a24-8e5a-d9849b967982"
      },
      "execution_count": null,
      "outputs": [
        {
          "output_type": "stream",
          "name": "stdout",
          "text": [
            "Drive already mounted at /content/drive/; to attempt to forcibly remount, call drive.mount(\"/content/drive/\", force_remount=True).\n",
            "   Unnamed: 0                    Source.Name                MsgNo.  \\\n",
            "0           0  adlabs_entertainment_ipo.xlsx      84. RAJESH SINGH   \n",
            "1           1  adlabs_entertainment_ipo.xlsx  83. VINOD JAIN NICKY   \n",
            "2           2  adlabs_entertainment_ipo.xlsx         82. Vraj Shah   \n",
            "3           3  adlabs_entertainment_ipo.xlsx            81. PavanM   \n",
            "4           4  adlabs_entertainment_ipo.xlsx          81.1. sushil   \n",
            "\n",
            "                  Date                                 Message  \\\n",
            "0  2015-05-21 16:56:04             My choice is Adlabs.Regards   \n",
            "1  2015-05-18 16:01:11                     ANY OTHER NEW ISSUE   \n",
            "2  2015-04-06 19:19:42                      Rex issue declared   \n",
            "3  2015-04-06 10:47:16  Excellent recovery...now at 199..enjoy   \n",
            "4  2015-04-06 11:47:11                 price 180.00 at 1145 am   \n",
            "\n",
            "                     cleaned message  \\\n",
            "0         My choice is AdlabsRegards   \n",
            "1                ANY OTHER NEW ISSUE   \n",
            "2                 Rex issue declared   \n",
            "3  Excellent recoverynow at 199enjoy   \n",
            "4             price 18000 at 1145 am   \n",
            "\n",
            "                                        vader values  positive score  \\\n",
            "0  {'neg': 0.0, 'neu': 1.0, 'pos': 0.0, 'compound...           0.000   \n",
            "1  {'neg': 0.0, 'neu': 1.0, 'pos': 0.0, 'compound...           0.000   \n",
            "2  {'neg': 0.0, 'neu': 1.0, 'pos': 0.0, 'compound...           0.000   \n",
            "3  {'neg': 0.0, 'neu': 0.448, 'pos': 0.552, 'comp...           0.552   \n",
            "4  {'neg': 0.0, 'neu': 1.0, 'pos': 0.0, 'compound...           0.000   \n",
            "\n",
            "   negative score  neutral score  compound score  \n",
            "0             0.0          1.000          0.0000  \n",
            "1             0.0          1.000          0.0000  \n",
            "2             0.0          1.000          0.0000  \n",
            "3             0.0          0.448          0.5719  \n",
            "4             0.0          1.000          0.0000  \n",
            "335832\n"
          ]
        }
      ]
    },
    {
      "cell_type": "code",
      "source": [
        "xls = pd.ExcelFile('drive/MyDrive/nlp_data/Co,base,listing,subs.xlsx')\n",
        "\n",
        "# this df contains the subcription times and other values\n",
        "subs_df = pd.read_excel(xls, 'Sheet1')\n",
        "\n",
        "# droping null rows\n",
        "subs_df = subs_df.dropna()\n",
        "\n",
        "# deriving listing difference and percentage\n",
        "subs_df = subs_df.assign(listing_difference = lambda x: (x['Open Price.NSE'] - x['Final Issue Price']))\n",
        "subs_df = subs_df.assign(listing_percentage = lambda x: (x['listing_difference']/x['Final Issue Price']))\n",
        "\n",
        "print(subs_df.head())\n",
        "print(len(subs_df.index))"
      ],
      "metadata": {
        "colab": {
          "base_uri": "https://localhost:8080/"
        },
        "id": "5QHUxvOGSKzx",
        "outputId": "dcdeea85-f52d-421c-a599-fcf361b0d948"
      },
      "execution_count": null,
      "outputs": [
        {
          "output_type": "stream",
          "name": "stdout",
          "text": [
            "                     Source.Name  BSE Symbol  NSE Symbol  \\\n",
            "0  adlabs_entertainment_ipo.xlsx    539056.0    IMAGICAA   \n",
            "1    alkem_laboratories_ipo.xlsx    539523.0       ALKEM   \n",
            "2       cafe_coffee_day_ipo.xlsx    539436.0   COFFEEDAY   \n",
            "3       dr_lal_pathlabs_ipo.xlsx    539524.0  LALPATHLAB   \n",
            "4                indigo_ipo.xlsx    539448.0      INDIGO   \n",
            "\n",
            "                   NAME  Final Issue Price  Open Price.BSE  Open Price.NSE  \\\n",
            "0  Adlabs_Entertainment              180.0          167.95           162.2   \n",
            "1    Alkem_Laboratories             1050.0         1380.00          1380.0   \n",
            "2       Cafe_Coffee_Day              328.0          313.00           317.0   \n",
            "3       Dr_Lal_Pathlabs              550.0          717.00           720.0   \n",
            "4                Indigo              765.0          856.00           855.8   \n",
            "\n",
            "   Close Price.BSE  Close Price.NSE  Subscription (times)  listing_difference  \\\n",
            "0           191.25           191.50                  1.09               -17.8   \n",
            "1          1381.45          1381.70                 44.29               330.0   \n",
            "2           270.15           271.00                  1.82               -11.0   \n",
            "3           824.15           825.00                 33.41               170.0   \n",
            "4           878.45           877.25                  6.15                90.8   \n",
            "\n",
            "   listing_percentage  \n",
            "0           -0.098889  \n",
            "1            0.314286  \n",
            "2           -0.033537  \n",
            "3            0.309091  \n",
            "4            0.118693  \n",
            "257\n"
          ]
        }
      ]
    },
    {
      "cell_type": "code",
      "source": [
        "xls = pd.ExcelFile('drive/MyDrive/nlp_data/Review and recomendation.xlsx')\n",
        "\n",
        "# this df contains the reviewer recommendations\n",
        "recom_df = pd.read_excel(xls, 'Data from chittorgarh website')\n",
        "\n",
        "print(recom_df.head())\n",
        "print(len(recom_df.index))\n",
        "#print(recom_df['Source.Name'].value_counts())"
      ],
      "metadata": {
        "colab": {
          "base_uri": "https://localhost:8080/"
        },
        "id": "8lBy9KKqTUsP",
        "outputId": "694b77b7-96ba-4a15-b54b-09e485a26a7e"
      },
      "execution_count": null,
      "outputs": [
        {
          "output_type": "stream",
          "name": "stdout",
          "text": [
            "                     Source.Name     Reviewer Recommendation\n",
            "0  adlabs_entertainment_ipo.xlsx          NaN      May Apply\n",
            "1  adlabs_entertainment_ipo.xlsx          NaN          Avoid\n",
            "2  adlabs_entertainment_ipo.xlsx      Antique      May Apply\n",
            "3  adlabs_entertainment_ipo.xlsx  Dilip Davda      May Apply\n",
            "4  adlabs_entertainment_ipo.xlsx          NaN          Apply\n",
            "2287\n"
          ]
        }
      ]
    },
    {
      "cell_type": "code",
      "source": [
        "xls = pd.ExcelFile('drive/MyDrive/nlp_data/Capital market rating.xlsx')\n",
        "\n",
        "# this df contains the market rating score\n",
        "score_df = pd.read_excel(xls, 'Data from chittorgarh website')\n",
        "\n",
        "# droping null rows\n",
        "score_df = score_df.dropna()\n",
        "\n",
        "print(score_df.head())\n",
        "print(len(score_df.index))"
      ],
      "metadata": {
        "colab": {
          "base_uri": "https://localhost:8080/"
        },
        "id": "DkkWIMHPUnXw",
        "outputId": "9fcbd7aa-3f7f-4997-dc96-c0ac602af968"
      },
      "execution_count": 51,
      "outputs": [
        {
          "output_type": "stream",
          "name": "stdout",
          "text": [
            "                     Source.Name        Reviewer  Rating Score  \\\n",
            "0  adlabs_entertainment_ipo.xlsx  Capital Market          40.0   \n",
            "2       cafe_coffee_day_ipo.xlsx  Capital Market          40.0   \n",
            "4                indigo_ipo.xlsx  Capital Market          40.0   \n",
            "5             inox_wind_ipo.xlsx  Capital Market          45.0   \n",
            "6   manpasand_beverages_ipo.xlsx  Capital Market          40.0   \n",
            "\n",
            "                                       Rating  \n",
            "0  Avoid, however active risk seekers can try  \n",
            "2  Avoid, however active risk seekers can try  \n",
            "4  Avoid, however active risk seekers can try  \n",
            "5                               May subscribe  \n",
            "6  Avoid, however active risk seekers can try  \n",
            "245\n"
          ]
        }
      ]
    },
    {
      "cell_type": "code",
      "source": [
        "xls = pd.ExcelFile('drive/MyDrive/nlp_data/Ratings.xlsx')\n",
        "\n",
        "# this df contains the market rating\n",
        "rating_df = pd.read_excel(xls, 'Data from chittorgarh website')\n",
        "\n",
        "print(rating_df.head())\n",
        "print(len(rating_df.index))"
      ],
      "metadata": {
        "id": "Y9Fpcdh9V04E",
        "colab": {
          "base_uri": "https://localhost:8080/"
        },
        "outputId": "63b917e0-a104-47fc-b925-d3c8acf5fab4"
      },
      "execution_count": 54,
      "outputs": [
        {
          "output_type": "stream",
          "name": "stdout",
          "text": [
            "                     Source.Name  Votes  Ratings\n",
            "0  adlabs_entertainment_ipo.xlsx    200      2.9\n",
            "1    alkem_laboratories_ipo.xlsx    491      3.7\n",
            "2       cafe_coffee_day_ipo.xlsx    618      4.0\n",
            "3       dr_lal_pathlabs_ipo.xlsx    382      3.6\n",
            "4                indigo_ipo.xlsx    371      3.2\n",
            "266\n"
          ]
        }
      ]
    },
    {
      "cell_type": "code",
      "source": [],
      "metadata": {
        "id": "jJIQxuLgSsFx"
      },
      "execution_count": null,
      "outputs": []
    }
  ]
}